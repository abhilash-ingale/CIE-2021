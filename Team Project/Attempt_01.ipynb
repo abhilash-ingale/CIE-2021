{
 "cells": [
  {
   "cell_type": "code",
   "execution_count": 11,
   "id": "ec7c3061",
   "metadata": {},
   "outputs": [],
   "source": [
    "# Import libraries \n",
    "import numpy as np\n",
    "import pandas as pd \n",
    "import matplotlib.pyplot as plt \n",
    "import os, glob"
   ]
  },
  {
   "cell_type": "code",
   "execution_count": 13,
   "id": "10af6a50",
   "metadata": {},
   "outputs": [
    {
     "name": "stdout",
     "output_type": "stream",
     "text": [
      "Subject266_upstairs01\n",
      "Subject267_downstairs01\n"
     ]
    }
   ],
   "source": [
    "########################### User-defined fucntions###############################\n",
    "\n",
    "# 1. sort_directories()\n",
    "# This function sorts the list of directories into lists of up and down directories\n",
    "# Input: filepath (string)\n",
    "# Output: lists of up & down directories (list)\n",
    "\n",
    "def sort_directories(path): \n",
    "    # Check if the path exists\n",
    "    if (os.path.isdir(path) and (not os.path.exists(path))):\n",
    "        print(\"ERROR: Directory does not exist\")\n",
    "\n",
    "    else:\n",
    "        # Change directory to given path\n",
    "        os.chdir(path)\n",
    "\n",
    "        # files variable contains all folders under the path directory\n",
    "        directories = sorted(os.listdir(os.getcwd()))\n",
    "\n",
    "        # Return error message when no directories are present\n",
    "        if len(directories) == 0:\n",
    "            print(\"ERROR: No sub-directories found in the given directory\")\n",
    "\n",
    "        up_list = []\n",
    "        down_list = []\n",
    "\n",
    "        # Check keywords and segregate accordingly\n",
    "        for entry in directories: \n",
    "            chk_1 = 'up'\n",
    "            chk_2 = 'down'\n",
    "\n",
    "            if chk_1 in entry:\n",
    "                up_list.append(entry)\n",
    "            elif chk_2 in entry: \n",
    "                down_list.append(entry)\n",
    "                \n",
    "return up_list, down_list\n",
    "\n",
    "# 2. filter_data\n",
    "\n",
    "def filter_data"
   ]
  },
  {
   "cell_type": "code",
   "execution_count": null,
   "id": "0193530c",
   "metadata": {},
   "outputs": [],
   "source": [
    "# Declare directory of data \n",
    "base_path = 'C:/Users/admin/Documents/01_RWTH Courses/03_ WiSe21/CIE/Project A/Data/All data/Smartphone1Copy'\n",
    "\n",
    "# Segregate data by name\n",
    "up,down = sort_directories(base_path)"
   ]
  }
 ],
 "metadata": {
  "kernelspec": {
   "display_name": "Python 3 (ipykernel)",
   "language": "python",
   "name": "python3"
  },
  "language_info": {
   "codemirror_mode": {
    "name": "ipython",
    "version": 3
   },
   "file_extension": ".py",
   "mimetype": "text/x-python",
   "name": "python",
   "nbconvert_exporter": "python",
   "pygments_lexer": "ipython3",
   "version": "3.8.12"
  }
 },
 "nbformat": 4,
 "nbformat_minor": 5
}
